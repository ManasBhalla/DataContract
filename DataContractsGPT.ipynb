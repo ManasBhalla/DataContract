{
  "nbformat": 4,
  "nbformat_minor": 0,
  "metadata": {
    "colab": {
      "provenance": []
    },
    "kernelspec": {
      "name": "python3",
      "display_name": "Python 3"
    },
    "language_info": {
      "name": "python"
    }
  },
  "cells": [
    {
      "cell_type": "code",
      "execution_count": 8,
      "metadata": {
        "colab": {
          "base_uri": "https://localhost:8080/"
        },
        "id": "gdXmamJ3A_cJ",
        "outputId": "3185093e-0c24-434a-d0c6-864b901109e8"
      },
      "outputs": [
        {
          "output_type": "stream",
          "name": "stdout",
          "text": [
            "Collecting faiss-cpu\n",
            "  Downloading faiss_cpu-1.7.4-cp310-cp310-manylinux_2_17_x86_64.manylinux2014_x86_64.whl (17.6 MB)\n",
            "\u001b[2K     \u001b[90m━━━━━━━━━━━━━━━━━━━━━━━━━━━━━━━━━━━━━━━━\u001b[0m \u001b[32m17.6/17.6 MB\u001b[0m \u001b[31m61.4 MB/s\u001b[0m eta \u001b[36m0:00:00\u001b[0m\n",
            "\u001b[?25hInstalling collected packages: faiss-cpu\n",
            "Successfully installed faiss-cpu-1.7.4\n"
          ]
        }
      ],
      "source": [
        "# !pip install pinecone-client openai tiktoken langchain\n",
        "# !pip install faiss-cpu"
      ]
    },
    {
      "cell_type": "code",
      "source": [
        "from langchain_community.document_loaders import TextLoader\n",
        "\n",
        "loader = TextLoader(\"./bbg.txt\")\n",
        "documents=loader.load()"
      ],
      "metadata": {
        "id": "n5IT2hKfBpB3"
      },
      "execution_count": 3,
      "outputs": []
    },
    {
      "cell_type": "code",
      "source": [
        "from langchain.text_splitter import RecursiveCharacterTextSplitter\n",
        "\n",
        "text_splitter = RecursiveCharacterTextSplitter(chunk_size=1000, chunk_overlap=150)\n",
        "\n",
        "docs=text_splitter.split_documents(documents)"
      ],
      "metadata": {
        "id": "4pHYaasoBbET"
      },
      "execution_count": 4,
      "outputs": []
    },
    {
      "cell_type": "code",
      "source": [
        "import os\n",
        "\n",
        "from langchain.embeddings.openai import OpenAIEmbeddings\n",
        "\n",
        "openai_api_key=''\n",
        "\n",
        "model_name='text-embedding-ada-002'\n",
        "\n",
        "embeddings=OpenAIEmbeddings(\n",
        "    model=model_name,\n",
        "    openai_api_key=openai_api_key\n",
        ")\n"
      ],
      "metadata": {
        "id": "b41lHtyzCKqp"
      },
      "execution_count": 12,
      "outputs": []
    },
    {
      "cell_type": "code",
      "source": [
        "from langchain_community.vectorstores import FAISS\n",
        "\n",
        "db = FAISS.from_documents(docs, embeddings)"
      ],
      "metadata": {
        "id": "VeL_LE-wCm2Q"
      },
      "execution_count": 13,
      "outputs": []
    },
    {
      "cell_type": "code",
      "source": [
        "query = \"What is bloomberg\"\n",
        "docs = db.similarity_search_with_score(query)"
      ],
      "metadata": {
        "id": "0JcXAUcoDuDv"
      },
      "execution_count": 19,
      "outputs": []
    },
    {
      "cell_type": "code",
      "source": [
        "print(docs)"
      ],
      "metadata": {
        "colab": {
          "base_uri": "https://localhost:8080/"
        },
        "id": "NQR2Z9pdEXmM",
        "outputId": "809a1d79-c559-4ac4-9983-d7118ff739c1"
      },
      "execution_count": 18,
      "outputs": [
        {
          "output_type": "stream",
          "name": "stdout",
          "text": [
            "[(Document(page_content='The BLOOMBERG TERMINAL service and Bloomberg data products (the \"Services\") are owned and distributed by Bloomberg Finance L.P. (\"BFLP\") except (i) in Argentina, Australia and certain jurisdictions in the Pacific islands, Bermuda, China, India, Japan, Korea and New Zealand, where Bloomberg L.P. and its subsidiaries (\"BLP\") distribute these products, and (ii) in Singapore and the jurisdictions serviced by Bloomberg’s Singapore office, where a subsidiary of BFLP distributes these products. BLP provides BFLP and its subsidiaries with global marketing and operational support and service. The following are trademarks and service marks of BFLP, a Delaware limited partnership, or its subsidiaries: BLOOMBERG, BLOOMBERG ANYWHERE, BLOOMBERG MARKETS, BLOOMBERG NEWS, BLOOMBERG PROFESSIONAL, BLOOMBERG TERMINAL and BLOOMBERG.COM. Absence of any trademark or service mark from this list does not waive Bloomberg’s intellectual property rights in that name, mark or logo. © 2024 Bloomberg L.P. All', metadata={'source': './bbg.txt'}), 0.34864578), (Document(page_content='BLOOMBERG, BLOOMBERG TERMINAL, BLOOMBERG PROFESSIONAL, BLOOMBERG MARKETS, BLOOMBERG NEWS, BLOOMBERG TRADEBOOK, BLOOMBERG BONDTRADER, BLOOMBERG TELEVISION, BLOOMBERG RADIO, BLOOMBERG.COM and BLOOMBERG ANYWHERE are trademarks and service marks of Bloomberg Finance L.P., a Delaware limited partnership, or its subsidiaries. All rights reserved.\\nD. Privacy Policy For This Site\\n\\nClick here for this Site’s privacy policy.', metadata={'source': './bbg.txt'}), 0.36085486), (Document(page_content='Unsupported browser detected. For a better user experience, use Google Chrome or Microsoft Edge. See Details.\\nBloomberg\\nBloomberg DATA <GO>\\nTerms of Service\\n\\nPLEASE READ ALL OF THE FOLLOWING TERMS AND CONDITIONS OF SERVICE FOR THIS DATA.BLOOMBERG.COM WEB SITE (\"TOS\") BEFORE USING THIS DATA.BLOOMBERG.COM WEB SITE (“SITE”). The Site and the products, services and information therein (collectively, “Bloomberg DATA <GO>“) are provided pursuant to, and use of Bloomberg DATA <GO> is governed by, the applicable agreements with Bloomberg Finance L.P. except in Argentina, China and Japan (where provided by Bloomberg L.P.), Bermuda (where provided by Bloomberg Bermuda Limited), India (where provided by Bloomberg Data Services (India) Pvt. Ltd.) and South Korea (where provided by Bloomberg Korea Ltd.) (as applicable, “Bloomberg”).\\nBLOOMBERG CUSTOMERS LOGGING ON TO THE SITE AND ACCESSING OR USING Bloomberg DATA <GO>:', metadata={'source': './bbg.txt'}), 0.38274565), (Document(page_content='© 2024 Bloomberg L.P. All rights reserved.', metadata={'source': './bbg.txt'}), 0.3883412)]\n"
          ]
        }
      ]
    },
    {
      "cell_type": "code",
      "source": [
        "print(docs[0].page_content)"
      ],
      "metadata": {
        "colab": {
          "base_uri": "https://localhost:8080/"
        },
        "id": "-g7xH8pUDxSz",
        "outputId": "2394f89c-36ec-4c79-91d3-5d26c3444faa"
      },
      "execution_count": 15,
      "outputs": [
        {
          "output_type": "stream",
          "name": "stdout",
          "text": [
            "The BLOOMBERG TERMINAL service and Bloomberg data products (the \"Services\") are owned and distributed by Bloomberg Finance L.P. (\"BFLP\") except (i) in Argentina, Australia and certain jurisdictions in the Pacific islands, Bermuda, China, India, Japan, Korea and New Zealand, where Bloomberg L.P. and its subsidiaries (\"BLP\") distribute these products, and (ii) in Singapore and the jurisdictions serviced by Bloomberg’s Singapore office, where a subsidiary of BFLP distributes these products. BLP provides BFLP and its subsidiaries with global marketing and operational support and service. The following are trademarks and service marks of BFLP, a Delaware limited partnership, or its subsidiaries: BLOOMBERG, BLOOMBERG ANYWHERE, BLOOMBERG MARKETS, BLOOMBERG NEWS, BLOOMBERG PROFESSIONAL, BLOOMBERG TERMINAL and BLOOMBERG.COM. Absence of any trademark or service mark from this list does not waive Bloomberg’s intellectual property rights in that name, mark or logo. © 2024 Bloomberg L.P. All\n"
          ]
        }
      ]
    }
  ]
}